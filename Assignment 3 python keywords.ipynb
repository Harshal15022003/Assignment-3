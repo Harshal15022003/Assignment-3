{
 "cells": [
  {
   "cell_type": "code",
   "execution_count": 1,
   "id": "54a29412-c69b-45ac-af1b-e650d33e1903",
   "metadata": {},
   "outputs": [],
   "source": [
    "#Answer 1"
   ]
  },
  {
   "cell_type": "code",
   "execution_count": 2,
   "id": "a1c0cc68-fb67-4730-92ae-db3cea6fe677",
   "metadata": {},
   "outputs": [],
   "source": [
    "#Python keywords are in-built functions. It is limited to the single function and it cannot be set as variable name or function name"
   ]
  },
  {
   "cell_type": "code",
   "execution_count": 3,
   "id": "f6597d43-0902-4a6c-a0f4-14e721aba688",
   "metadata": {},
   "outputs": [],
   "source": [
    "#five examples are =\n",
    "#print,if,elif,else,lambda,type,etc."
   ]
  },
  {
   "cell_type": "code",
   "execution_count": 4,
   "id": "4586738b-c4fa-4468-b6db-6bff9d23d83b",
   "metadata": {},
   "outputs": [],
   "source": [
    "#Answer 2"
   ]
  },
  {
   "cell_type": "code",
   "execution_count": 5,
   "id": "2dc1baa4-8a64-4043-bb14-8f2a0786f457",
   "metadata": {},
   "outputs": [],
   "source": [
    "#It cannot be a reserved python keyword.\n",
    "#It should not contain white space.\n",
    "#It can be a combination of A-Z, a-z, 0-9, or underscore.\n",
    "#It should start with an alphabet character or an underscore ( _ ).\n",
    "#It should not contain any special character other than an underscore ( _ )."
   ]
  },
  {
   "cell_type": "code",
   "execution_count": 6,
   "id": "971533bb-6f71-400d-9b74-2180dfdadf95",
   "metadata": {},
   "outputs": [],
   "source": [
    "#example 1\n",
    "#float\n",
    "a = 5.5\n",
    "\n",
    "#example 2\n",
    "#integer\n",
    "a = 5\n",
    "\n",
    "#example 3\n",
    "#string\n",
    "a = \"karan\""
   ]
  },
  {
   "cell_type": "code",
   "execution_count": 7,
   "id": "c03ee889-6a7d-44eb-a27f-02f8b9b896b1",
   "metadata": {},
   "outputs": [],
   "source": [
    "#Answer 3\n",
    "#Comments in Python are text annotations within the code that are not executed by the interpreter. They are useful for providing explanations, clarifying the purpose of code sections, and leaving notes for other developers (or yourself in the future). Comments improve code readability and maintainability by making it easier to understand the logic and purpose of the code.\n",
    "#Example - \n",
    "#it is the comments"
   ]
  },
  {
   "cell_type": "code",
   "execution_count": 8,
   "id": "6b8f1c99-f6c9-4cbb-89c9-f639ba053b00",
   "metadata": {},
   "outputs": [],
   "source": [
    "#Answer 4\n",
    "#Proper indentation is crucial in Python because it defines the structure and flow of the code. Unlike many other programming languages that use braces ({}) or keywords to define blocks of code, Python relies on indentation to indicate code blocks."
   ]
  },
  {
   "cell_type": "code",
   "execution_count": 9,
   "id": "70d5592f-9b32-4407-b20a-897b531347f9",
   "metadata": {},
   "outputs": [],
   "source": [
    "#Answer 5\n",
    "#Incorrect indentation in Python can lead to various issues, primarily syntax errors and logical errors. Because Python relies on indentation to define the structure of code blocks, any deviation from the correct indentation rules can cause the interpreter to throw errors or result in unexpected behavior. "
   ]
  },
  {
   "cell_type": "code",
   "execution_count": 10,
   "id": "61e3d479-634c-4ea4-ad9a-91534dfc9260",
   "metadata": {},
   "outputs": [],
   "source": [
    "#Answer 6\n",
    "#expression -:\n",
    "#An expression is a combination of values, variables, operators, and function calls that can be evaluated to produce a result. Expressions represent computations or values.\n"
   ]
  },
  {
   "cell_type": "code",
   "execution_count": null,
   "id": "aec86906-0492-47af-bdcf-64d6fdd9de83",
   "metadata": {},
   "outputs": [],
   "source": [
    "#statements -:\n",
    "#A statement is an instruction that the Python interpreter executes. Statements do not produce values; instead, they perform actions such as creating variables, performing loops, or executing conditional branches."
   ]
  }
 ],
 "metadata": {
  "kernelspec": {
   "display_name": "Python 3 (ipykernel)",
   "language": "python",
   "name": "python3"
  },
  "language_info": {
   "codemirror_mode": {
    "name": "ipython",
    "version": 3
   },
   "file_extension": ".py",
   "mimetype": "text/x-python",
   "name": "python",
   "nbconvert_exporter": "python",
   "pygments_lexer": "ipython3",
   "version": "3.10.8"
  }
 },
 "nbformat": 4,
 "nbformat_minor": 5
}
